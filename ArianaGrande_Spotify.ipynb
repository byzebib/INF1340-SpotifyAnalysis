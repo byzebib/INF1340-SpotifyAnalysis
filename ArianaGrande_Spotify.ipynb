{
 "cells": [
  {
   "cell_type": "code",
   "execution_count": 1,
   "id": "2aa7fd95",
   "metadata": {},
   "outputs": [
    {
     "name": "stdout",
     "output_type": "stream",
     "text": [
      "90\n",
      "['12sliObzVzbLbAlDb8eChf', '1hG4V53eR16jg7jVTNLOiX', '5VipERQ1ofCowecoFg2MVU', '1N9hFgcgWYbGINUKjhvcK6', '1qKdid2S9fZdSrzLaCcjcF', '4rJWTThj9EWR6UqD1eVyge', '53Z8fbdVNus9Kiu7tWIBEC', '5Ds3yH73nMHgkmJxcxqPrr', '7wcl0YJBQ0ygTUUaXLRM1g', '7cFYqReKEigTxTm0bNE6YA', '4iIrJ94pkIEnGZWv1MhIRC', '3DFnLXa69NVlOjbhTbXXNn', '65OEcDb4M3mAvEpSdXi6Lv', '3RP1eXaK8f4rwqY9fRKVRF', '3Os1431WclqyKxWqMzRESE', '3eZYOQO4UzKrUDYDghtnFw', '2sQH02O2HBCPJCztBrCWNa', '6KIKaWKE9wV6mLjho3w61y', '63WsFFnQ8CL941iZBELYsX', '39LmTF9RgyakzSYX8txrow', '1TEL6MlSSVLSdhOSddidlJ', '4uTvPEr01pjTbZgl7jcKBD', '2hloaUoRonYssMuqLCBLTX', '3wFLWP0FcIqHK1wb1CPthQ', '5Il6Oe7lr5XM7A0cWbVQtr', '27356GVuMPFWiJSZCragoM', '2vdBo4ALPYbHRUPKgtE5iC', '4T652DlATVHe0jdLKaN3Bw', '6ocbgoVGwYJhOv1GgI9NsF', '3e9HZxeyfWwjeyPAMmWSSQ', '4kV4N9D1iKVxx1KLvtTpjS', '0v2LUO8oTHnkjQ8MmKuXyk', '4mLkiFppf8Xvem6BSY34qw', '0sdbFOyfgAhAhWq8DpzkaW', '1xWH8zYtDeS9mW1JJG23VZ', '5OCJzvD7sykQEKHH7qAC3C', '70khXICDeTTxgYtw3EysKH', '5YeHLHDdQ4nKHk81XFWhCU', '0WdR2AyLW1Drd3OUdwezM0', '4OafepJy2teCjYJbvFE60J', '2qT1uLXPVPzGgFOx4jtEuo', '4b7mLZQWsy0rLnrMtPA9fQ', '3NbTQ8ZbHU6MSEVUFAVCJ9', '14kYOiFVPb7E7NfFbqhdln', '0XOnMqLQDO89iAg7dWWwnG', '7u6DMPznGbpziuEgCE0JGQ', '1qcJdr8TYuGjFhjRoYNC3e', '1OhstguCoBQ4SXT8ugSmOl', '1MkFj1ThZZxjYMNkczx9mk', '49gRYU6hBWgSH2JVixGkJq', '4HeCFqiB1rBqGqvE10rF1a', '6VpLNElCyXW15cBixlnIu8', '6tcLyhPrmBEPaQ1Yz4MdGy', '4Xg2NUXyF7cgvwSOs6PiSa', '53SfB4huCgiRGmwzJdEo1u', '7IqSduDsieo2epoqA97NxC', '7xagQoIf776ukUlgH4TyyB', '76RIfPBraSmXWC9LryUztF', '7rlKlsYacU3PFLGD7ca1HL', '1ywoy5kdf2LsG2019ClGjm', '28tmK8wkE9y1UHdBKLd0nA', '3K1y89UHuAEZbpiSPbtAae', '0kngSEayfCOjR8w83R7vAT', '0qMNPhpRzbghJy6G3SgRag', '7vS3Y0IKjde7Xg85LWIEdP', '7xoUc6faLbCqZO6fQEYprd', '40fHWRL8bKcl5J4t4OKUiW', '12KUFSHFgT0XCoiSlvdQi4', '70yhaHLp9STtzI2Kzba6Tr', '0fonaf88IEDQM309zmU80L', '0HGcQDbRen8luCnwH53sNl', '5J4ZkQpzMUFojo1CtAZYpn', '5lvnGiTAH9BVlJLHc0DXZz', '1rNop31kdDmSj3Ds6xhIeS', '4eumFsTnduH3zRfaASoAPs', '466s1BacUmiRdR3ISvNjyx', '6LQzYkmd8ADbKOOEVDnlG4', '3hgl7EQwTutSm6PESsB7gZ', '5SmXEPnevlRjBPWBG7oKIi', '6NmCCgnQcxKHPOAKgd9Nth', '47rzxY9wSpomHE1gT94jIT', '7JmIjOsRish3vYBSLTytEC', '0CN72fWya38TPEQzrsr27w', '1FSfCzJd8aSQ0nqTSbN4PO', '2CcQDI2IDhHbmBIFup58JE', '0S4RKPbRDA72tvKwVdXQqe', '6d8XhbAw4IoKPnVD07Sb9b', '442j8VxaB60dWf9cBFuX5w', '6AviHKu3ydzAePBmzEi62v', '0vyQdRbRJRRY8GGuM8eVVI']\n"
     ]
    }
   ],
   "source": [
    "# import necessary libraries\n",
    "import spotipy\n",
    "from spotipy.oauth2 import SpotifyClientCredentials\n",
    "import pandas as pd\n",
    "import time\n",
    "\n",
    "# client ID and secret key from spotify API\n",
    "client_id = 'd1414013bbbe4f0ab817aff5a66a6c13'\n",
    "client_secret = '0bca3a94e7d94fe8b30bda97a68ab224'\n",
    "\n",
    "client_credentials_manager = SpotifyClientCredentials(client_id, client_secret)\n",
    "sp = spotipy.Spotify(client_credentials_manager=client_credentials_manager)\n",
    "\n",
    "# get the track IDs for each song in the playlist\n",
    "def TrackIDs(user, playlist_id):\n",
    "    ids = []\n",
    "    playlist = sp.user_playlist(user, playlist_id)\n",
    "    for item in playlist['tracks']['items']:\n",
    "        track = item['track']\n",
    "        ids.append(track['id'])\n",
    "    return ids\n",
    "\n",
    "# specify which playlist we want to pull data frame\n",
    "# created playlist with Ariana Grande's discography\n",
    "ids = TrackIDs('Ragave Vic', '0At1809AzgSQXbraEONTRw?si=7defeb467b5e4957')\n",
    "\n",
    "# print the number of songs in the playlist\n",
    "print(len(ids))\n",
    "\n",
    "# function to get the features of each track in the playlist\n",
    "def TrackFeatures(id):\n",
    "  meta = sp.track(id)\n",
    "  features = sp.audio_features(id)\n",
    "\n",
    "  # meta // subclass type\n",
    "  name = meta['name']\n",
    "  album = meta['album']['name']\n",
    "  artist = meta['album']['artists'][0]['name']\n",
    "  release_date = meta['album']['release_date']\n",
    "  length = meta['duration_ms']\n",
    "  popularity = meta['popularity']\n",
    "\n",
    "  # features\n",
    "  acousticness = features[0]['acousticness']\n",
    "  danceability = features[0]['danceability']\n",
    "  energy = features[0]['energy']\n",
    "  instrumentalness = features[0]['instrumentalness']\n",
    "  liveness = features[0]['liveness']\n",
    "  loudness = features[0]['loudness']\n",
    "  speechiness = features[0]['speechiness']\n",
    "  tempo = features[0]['tempo']\n",
    "  time_signature = features[0]['time_signature']\n",
    "\n",
    "  track = [name, album, artist, release_date, length, popularity, danceability, acousticness, danceability, energy, instrumentalness, liveness, loudness, speechiness, tempo, time_signature]\n",
    "  return track\n",
    "\n",
    "# loop over each track in the playlist\n",
    "tracks = []\n",
    "for i in range(len(ids)):\n",
    "  time.sleep(.5)\n",
    "  track = TrackFeatures(ids[i])\n",
    "  tracks.append(track)\n",
    "\n",
    "# create a dataframe with information about each track in the playlist\n",
    "df = pd.DataFrame(tracks, columns = ['name', 'album', 'artist', 'release_date', 'length', 'popularity', 'danceability', 'acousticness', 'danceability', 'energy', 'instrumentalness', 'liveness', 'loudness', 'speechiness', 'tempo', 'time_signature'])\n",
    "# create a csv file with the song information\n",
    "df.to_csv(\"arianagrande_spotify.csv\", sep = ',')"
   ]
  }
 ],
 "metadata": {
  "kernelspec": {
   "display_name": "Python 3",
   "language": "python",
   "name": "python3"
  },
  "language_info": {
   "codemirror_mode": {
    "name": "ipython",
    "version": 3
   },
   "file_extension": ".py",
   "mimetype": "text/x-python",
   "name": "python",
   "nbconvert_exporter": "python",
   "pygments_lexer": "ipython3",
   "version": "3.8.8"
  }
 },
 "nbformat": 4,
 "nbformat_minor": 5
}
